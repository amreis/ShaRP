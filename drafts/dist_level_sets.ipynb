{
 "cells": [
  {
   "cell_type": "code",
   "execution_count": 20,
   "id": "f798cbba-25ac-40de-a707-b24afdb8193b",
   "metadata": {},
   "outputs": [],
   "source": [
    "import matplotlib.pyplot as plt\n",
    "import numpy as np\n",
    "from scipy.stats import dirichlet, multivariate_normal, gennorm"
   ]
  },
  {
   "cell_type": "markdown",
   "id": "184cc15c-cc44-4032-b2f7-3fba665e7c39",
   "metadata": {
    "jp-MarkdownHeadingCollapsed": true,
    "tags": []
   },
   "source": [
    "# 2D Normal"
   ]
  },
  {
   "cell_type": "code",
   "execution_count": 61,
   "id": "e324ef0c-8985-4724-b889-515682a13fbe",
   "metadata": {},
   "outputs": [],
   "source": [
    "xx, yy = np.meshgrid(np.linspace(-5, 5, 100), np.linspace(-5, 5, 100))\n",
    "\n",
    "grid_points = np.c_[xx.ravel(), yy.ravel()]"
   ]
  },
  {
   "cell_type": "code",
   "execution_count": 62,
   "id": "13323565-ca58-4e97-9c81-37629e944525",
   "metadata": {},
   "outputs": [],
   "source": [
    "normal_dist = multivariate_normal(mean=np.zeros(2, dtype=np.float32), cov=[[5, 0], [0, 2]])"
   ]
  },
  {
   "cell_type": "code",
   "execution_count": 63,
   "id": "943408ce-25fa-4559-980d-59738bdaa089",
   "metadata": {},
   "outputs": [
    {
     "data": {
      "text/plain": [
       "0.04066304613934464"
      ]
     },
     "execution_count": 63,
     "metadata": {},
     "output_type": "execute_result"
    }
   ],
   "source": [
    "normal_dist.pdf(normal_dist.rvs()[None,...])"
   ]
  },
  {
   "cell_type": "code",
   "execution_count": 64,
   "id": "b186e55f-6b1d-4d4e-8d71-c368b2034f9a",
   "metadata": {},
   "outputs": [],
   "source": [
    "pdf = normal_dist.pdf(grid_points).reshape(100, 100)"
   ]
  },
  {
   "cell_type": "code",
   "execution_count": 65,
   "id": "35e06048-7ca3-4e31-b2c6-5884250daa4b",
   "metadata": {},
   "outputs": [
    {
     "data": {
      "image/png": "[encoded data removed]",
      "text/plain": [
       "<Figure size 432x288 with 1 Axes>"
      ]
     },
     "metadata": {
      "needs_background": "light"
     },
     "output_type": "display_data"
    }
   ],
   "source": [
    "plt.contour(xx, yy, pdf, 5)\n",
    "plt.axis('equal')\n",
    "ax = plt.gca()\n",
    "# Move left y-axis and bottim x-axis to centre, passing through (0,0)\n",
    "ax.spines['left'].set_position('center')\n",
    "ax.spines['bottom'].set_position('center')\n",
    "\n",
    "# Eliminate upper and right axes\n",
    "ax.spines['right'].set_color('none')\n",
    "ax.spines['top'].set_color('none')\n",
    "\n",
    "# Show ticks in the left and lower axes only\n",
    "ax.xaxis.set_ticks_position('bottom')\n",
    "ax.yaxis.set_ticks_position('left')"
   ]
  },
  {
   "cell_type": "markdown",
   "id": "7402d313-3475-4e3a-a171-1d42e9e9c44d",
   "metadata": {
    "tags": []
   },
   "source": [
    "# Dirichlet"
   ]
  },
  {
   "cell_type": "code",
   "execution_count": 172,
   "id": "166bf655-52c5-49d7-b091-a73f7b21262f",
   "metadata": {},
   "outputs": [
    {
     "name": "stdout",
     "output_type": "stream",
     "text": [
      "[[0.        0.5       1.       ]\n",
      " [0.        0.8660254 0.       ]]\n"
     ]
    }
   ],
   "source": [
    "triangle = np.array([\n",
    "    [0.0, 0.0],\n",
    "    [0.5, np.sqrt(3)/2],\n",
    "    [1.0, 0.0]\n",
    "]).T\n",
    "print(triangle)"
   ]
  },
  {
   "cell_type": "code",
   "execution_count": 124,
   "id": "cccd3886-cbe9-499c-bfb6-cde8b7e76e32",
   "metadata": {},
   "outputs": [],
   "source": [
    "dir_dist = dirichlet(alpha=[2.0, 2.0, 2.0])"
   ]
  },
  {
   "cell_type": "code",
   "execution_count": 125,
   "id": "1a79d572-c3b2-496f-9208-35b483a72e27",
   "metadata": {},
   "outputs": [
    {
     "data": {
      "text/plain": [
       "4.2053390867291816"
      ]
     },
     "execution_count": 125,
     "metadata": {},
     "output_type": "execute_result"
    }
   ],
   "source": [
    "dir_dist.pdf(dir_dist.rvs().squeeze())"
   ]
  },
  {
   "cell_type": "code",
   "execution_count": 130,
   "id": "44e0b315-8581-4da1-9d80-c5149fadbe03",
   "metadata": {},
   "outputs": [],
   "source": [
    "xx, yy = np.meshgrid(np.linspace(0, 1, 1000), np.linspace(0, 1, 500))\n",
    "\n",
    "grid_points = np.c_[xx.ravel(), yy.ravel()]\n",
    "\n",
    "grid_points = np.c_[grid_points, 1 - grid_points.sum(axis=1)]"
   ]
  },
  {
   "cell_type": "code",
   "execution_count": 131,
   "id": "f0452c8c-93f2-49b1-94d5-b3245ddbfb2c",
   "metadata": {},
   "outputs": [
    {
     "name": "stdout",
     "output_type": "stream",
     "text": [
      "(500000, 3)\n"
     ]
    },
    {
     "data": {
      "text/plain": [
       "array([[ 0.      ,  0.      ,  1.      ],\n",
       "       [ 0.001001,  0.      ,  0.998999],\n",
       "       [ 0.002002,  0.      ,  0.997998],\n",
       "       ...,\n",
       "       [ 0.997998,  1.      , -0.997998],\n",
       "       [ 0.998999,  1.      , -0.998999],\n",
       "       [ 1.      ,  1.      , -1.      ]])"
      ]
     },
     "execution_count": 131,
     "metadata": {},
     "output_type": "execute_result"
    }
   ],
   "source": [
    "print(grid_points.shape)\n",
    "grid_points"
   ]
  },
  {
   "cell_type": "code",
   "execution_count": 132,
   "id": "2de6cc30-40c7-46e9-86ea-6d30170b493b",
   "metadata": {},
   "outputs": [],
   "source": [
    "dir_probs = np.apply_along_axis(lambda point: dir_dist.pdf(point) if point[2] >= point[0] >= point[1] > 0 else 0.0, -1, grid_points)"
   ]
  },
  {
   "cell_type": "code",
   "execution_count": 139,
   "id": "b2da97d0-2c18-4387-a90d-0a87b793d0da",
   "metadata": {},
   "outputs": [
    {
     "data": {
      "text/plain": [
       "(0.0, 0.5)"
      ]
     },
     "execution_count": 139,
     "metadata": {},
     "output_type": "execute_result"
    },
    {
     "data": {
      "image/png": "[encoded data removed]",
      "text/plain": [
       "<Figure size 432x288 with 1 Axes>"
      ]
     },
     "metadata": {
      "needs_background": "light"
     },
     "output_type": "display_data"
    }
   ],
   "source": [
    "plt.contour(xx, yy, dir_probs.reshape(500, 1000))\n",
    "plt.gca().set_xlim((0,0.5))\n",
    "plt.gca().set_ylim((0,0.5))\n"
   ]
  },
  {
   "cell_type": "markdown",
   "id": "a84101ce-5fbf-4071-88d2-e50f6c7ea33c",
   "metadata": {},
   "source": [
    "# Generalized Normal"
   ]
  },
  {
   "cell_type": "code",
   "execution_count": 166,
   "id": "75880876-3904-4633-9a0f-183dd41e40aa",
   "metadata": {},
   "outputs": [],
   "source": [
    "gen_dist = gennorm(50, loc=[0, 0])"
   ]
  },
  {
   "cell_type": "code",
   "execution_count": 167,
   "id": "ee246cd1-3d6e-4acf-a2ca-e6bd01f5bcd0",
   "metadata": {},
   "outputs": [],
   "source": [
    "xx, yy = np.meshgrid(np.linspace(-2, 2, 200), np.linspace(-2, 2, 200))\n",
    "\n",
    "grid_points = np.c_[xx.ravel(), yy.ravel()]"
   ]
  },
  {
   "cell_type": "code",
   "execution_count": 173,
   "id": "645941b6-1a79-452a-a705-6902d8a60a7d",
   "metadata": {},
   "outputs": [
    {
     "data": {
      "text/plain": [
       "((200, 200), (200, 200))"
      ]
     },
     "execution_count": 173,
     "metadata": {},
     "output_type": "execute_result"
    }
   ],
   "source": [
    "xx.shape, yy.shape"
   ]
  },
  {
   "cell_type": "code",
   "execution_count": 168,
   "id": "07ad9358-864d-4ee2-92a4-69cdbd153745",
   "metadata": {},
   "outputs": [],
   "source": [
    "likelihoods = gen_dist.pdf(grid_points).prod(axis=1)"
   ]
  },
  {
   "cell_type": "code",
   "execution_count": 171,
   "id": "ee2d531c-b3c4-4f7f-9752-2f03231423ab",
   "metadata": {},
   "outputs": [
    {
     "data": {
      "text/plain": [
       "<matplotlib.contour.QuadContourSet at 0x7f1c77e92d90>"
      ]
     },
     "execution_count": 171,
     "metadata": {},
     "output_type": "execute_result"
    },
    {
     "data": {
      "image/png": "[encoded data removed]",
      "text/plain": [
       "<Figure size 432x288 with 1 Axes>"
      ]
     },
     "metadata": {
      "needs_background": "light"
     },
     "output_type": "display_data"
    }
   ],
   "source": [
    "plt.contour(xx, yy, likelihoods.reshape(200, 200), 5)"
   ]
  },
  {
   "cell_type": "code",
   "execution_count": null,
   "id": "bf9be205-1b9b-4b03-a229-81a4418229c0",
   "metadata": {},
   "outputs": [],
   "source": []
  }
 ],
 "metadata": {
  "kernelspec": {
   "display_name": "Python 3 (ipykernel)",
   "language": "python",
   "name": "python3"
  },
  "language_info": {
   "codemirror_mode": {
    "name": "ipython",
    "version": 3
   },
   "file_extension": ".py",
   "mimetype": "text/x-python",
   "name": "python",
   "nbconvert_exporter": "python",
   "pygments_lexer": "ipython3",
   "version": "3.9.10"
  }
 },
 "nbformat": 4,
 "nbformat_minor": 5
}
