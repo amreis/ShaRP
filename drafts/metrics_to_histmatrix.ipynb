{
 "cells": [
  {
   "cell_type": "code",
   "execution_count": 15,
   "metadata": {},
   "outputs": [],
   "source": [
    "import numpy as np\n",
    "import pandas as pd\n",
    "import matplotlib.pyplot as plt\n",
    "%matplotlib inline\n"
   ]
  },
  {
   "cell_type": "code",
   "execution_count": 16,
   "metadata": {},
   "outputs": [],
   "source": [
    "df = pd.read_csv('../code/results_direct_Oct3/metrics.csv')"
   ]
  },
  {
   "cell_type": "code",
   "execution_count": 17,
   "metadata": {},
   "outputs": [],
   "source": [
    "df.columns = [cname.strip() for cname in df.columns]"
   ]
  },
  {
   "cell_type": "code",
   "execution_count": 18,
   "metadata": {},
   "outputs": [],
   "source": [
    "df.dataset_name = df['dataset_name'].str.strip()\n",
    "df.test_name = df.test_name.str.strip()"
   ]
  },
  {
   "cell_type": "code",
   "execution_count": 19,
   "metadata": {},
   "outputs": [
    {
     "data": {
      "text/plain": [
       "Index(['dataset_name', 'test_name', 'T_train', 'C_train', 'R_train', 'S_train',\n",
       "       'N_train', 'DSC_train', 'CC_train', 'MSE_train', 'MSE_test'],\n",
       "      dtype='object')"
      ]
     },
     "execution_count": 19,
     "metadata": {},
     "output_type": "execute_result"
    }
   ],
   "source": [
    "df.columns"
   ]
  },
  {
   "cell_type": "code",
   "execution_count": 20,
   "metadata": {},
   "outputs": [],
   "source": [
    "means = df.groupby('test_name')[['T_train', 'C_train', 'R_train', 'S_train', 'N_train', 'DSC_train', 'MSE_train', 'MSE_test']].mean()"
   ]
  },
  {
   "cell_type": "code",
   "execution_count": 21,
   "metadata": {},
   "outputs": [],
   "source": [
    "stddevs = df.groupby('test_name')[['T_train', 'C_train', 'R_train', 'S_train', 'N_train', 'DSC_train', 'MSE_train', 'MSE_test']].std()"
   ]
  },
  {
   "cell_type": "code",
   "execution_count": 22,
   "metadata": {},
   "outputs": [],
   "source": [
    "records = []\n",
    "translate_metric_name = {\n",
    "    'T_train': 'Trustworthiness',\n",
    "    'C_train': 'Continuity',\n",
    "    'R_train': 'Shepard Correlation',\n",
    "    'S_train': 'Stress',\n",
    "    'N_train': 'Neighborhood Hit',\n",
    "    'DSC_train': 'Distance Consistency',\n",
    "    'MSE_train': \"Mean Squared Error (train)\",\n",
    "    'MSE_test': \"Mean Squared Error (test)\"\n",
    "}\n",
    "for m, s in zip(means.iterrows(), stddevs.iterrows()):\n",
    "    ix, m = m\n",
    "    _, s = s\n",
    "    for metric in translate_metric_name:\n",
    "        records.append((ix, translate_metric_name[metric], m[metric], s[metric]))\n"
   ]
  },
  {
   "cell_type": "code",
   "execution_count": 23,
   "metadata": {},
   "outputs": [],
   "source": [
    "means_and_stds = pd.DataFrame(records, columns=['algorithm', 'metric', 'mean', 'std'])"
   ]
  },
  {
   "cell_type": "code",
   "execution_count": 24,
   "metadata": {},
   "outputs": [
    {
     "name": "stdout",
     "output_type": "stream",
     "text": [
      "(0, mean    0.878253\n",
      "std     0.136318\n",
      "Name: 0, dtype: float64)\n"
     ]
    }
   ],
   "source": [
    "print(next(means_and_stds[['mean', 'std']].iterrows()))"
   ]
  },
  {
   "cell_type": "code",
   "execution_count": 25,
   "metadata": {},
   "outputs": [],
   "source": [
    "means_and_stds['formatted'] = [f\"{m:.2f} ({s:.2f})\" for ix, (m, s) in means_and_stds[['mean', 'std']].iterrows()]"
   ]
  },
  {
   "cell_type": "code",
   "execution_count": 26,
   "metadata": {},
   "outputs": [],
   "source": [
    "pivoted = means_and_stds.pivot(index='algorithm', columns='metric', values='formatted')\n",
    "assert set(pivoted.columns) == set(translate_metric_name.values())  # assert we're not messing up with the reordering\n",
    "pivoted = pivoted[list(translate_metric_name.values())]  # reorder column names"
   ]
  },
  {
   "cell_type": "code",
   "execution_count": 27,
   "metadata": {},
   "outputs": [
    {
     "name": "stdout",
     "output_type": "stream",
     "text": [
      "algorithm,Trustworthiness,Continuity,Shepard Correlation,Stress,Neighborhood Hit,Distance Consistency,Mean Squared Error (train),Mean Squared Error (test)\n",
      "AE,0.88 (0.14),0.92 (0.09),0.34 (0.33),1.24 (1.07),0.79 (0.04),0.62 (0.08),0.02 (0.02),0.02 (0.02)\n",
      "ISOMAP,0.82 (0.13),0.93 (0.10),0.54 (0.41),4.36 (4.36),0.74 (0.09),0.59 (0.09),-99.00 (0.00),-99.00 (0.00)\n",
      "NNP,0.90 (0.12),0.97 (0.03),0.44 (0.25),0.87 (0.04),0.86 (0.08),0.74 (0.14),-99.00 (0.00),-99.00 (0.00)\n",
      "SSNP-AG,0.85 (0.14),0.92 (0.08),0.46 (0.18),0.30 (0.07),0.81 (0.06),0.67 (0.09),0.02 (0.02),0.03 (0.02)\n",
      "SSNP-GT,0.80 (0.13),0.90 (0.08),0.45 (0.12),0.50 (0.06),0.98 (0.03),0.93 (0.04),0.03 (0.02),0.03 (0.02)\n",
      "SSNP-KMeans,0.86 (0.14),0.93 (0.06),0.45 (0.22),0.33 (0.13),0.78 (0.05),0.62 (0.10),0.02 (0.02),0.02 (0.02)\n",
      "ShaRP-AG,0.82 (0.14),0.89 (0.11),0.38 (0.31),0.77 (0.09),0.77 (0.05),0.66 (0.07),0.03 (0.02),0.03 (0.02)\n",
      "ShaRP-GT,0.75 (0.12),0.86 (0.10),0.34 (0.22),0.78 (0.08),0.94 (0.06),0.89 (0.07),0.03 (0.02),0.03 (0.02)\n",
      "ShaRP-KMeans,0.83 (0.14),0.90 (0.08),0.43 (0.27),0.78 (0.08),0.75 (0.05),0.66 (0.05),0.03 (0.02),0.03 (0.02)\n",
      "TSNE,0.94 (0.11),0.97 (0.03),0.44 (0.25),25.95 (18.37),0.91 (0.06),0.75 (0.14),-99.00 (0.00),-99.00 (0.00)\n",
      "UMAP,0.91 (0.14),0.96 (0.05),0.42 (0.34),1.39 (1.45),0.87 (0.09),0.74 (0.17),-99.00 (0.00),-99.00 (0.00)\n",
      "\n"
     ]
    }
   ],
   "source": [
    "print(pivoted.to_csv(header=True, index=True))"
   ]
  },
  {
   "cell_type": "markdown",
   "metadata": {},
   "source": []
  }
 ],
 "metadata": {
  "kernelspec": {
   "display_name": "Python 3.9.10 ('ssnp-EChxxWih')",
   "language": "python",
   "name": "python3"
  },
  "language_info": {
   "codemirror_mode": {
    "name": "ipython",
    "version": 3
   },
   "file_extension": ".py",
   "mimetype": "text/x-python",
   "name": "python",
   "nbconvert_exporter": "python",
   "pygments_lexer": "ipython3",
   "version": "3.9.10"
  },
  "orig_nbformat": 4,
  "vscode": {
   "interpreter": {
    "hash": "99b8930a565895325db8367b5f163c7689eabe0a02f605a456e49a2907343d1e"
   }
  }
 },
 "nbformat": 4,
 "nbformat_minor": 2
}
